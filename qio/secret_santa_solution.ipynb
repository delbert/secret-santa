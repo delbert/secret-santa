{
 "cells": [
  {
   "cell_type": "markdown",
   "id": "d25099d2",
   "metadata": {},
   "source": [
    "Copyright (c) Microsoft Corporation.\n",
    "Licensed under the MIT License."
   ]
  },
  {
   "cell_type": "markdown",
   "id": "a5439d1f",
   "metadata": {},
   "source": [
    "# Quantum-Inspired Optimization\n",
    "\n",
    "## Binary optimization problems take the general form\n",
    "\n",
    "\n",
    "$ \\displaystyle\\text{Minimize: } \\sum_{k} term_k = \\sum_k c_k \\prod_{i} x_i \\text{ where } x_i \\in \\{ 0,1 \\} \\text{ or } \\{ -1 , 1 \\} \\text{ and } c_k \\in \\mathbb{R} $"
   ]
  },
  {
   "cell_type": "markdown",
   "id": "328efa85",
   "metadata": {},
   "source": [
    "### for example\n",
    "\n",
    "$ \\displaystyle\\text{this problem: } 13 + 17x_0 + 23x_1x_3x_{77} $\n",
    "\n",
    "#### is represented by these Terms:"
   ]
  },
  {
   "cell_type": "code",
   "execution_count": null,
   "id": "0ab8c28d",
   "metadata": {},
   "outputs": [],
   "source": [
    " [ Term ( c = 13.0 , indices = [] ) , Term [ c = 17.0 indices = [ 0 ] ] , Term [ c = 23.0 indices = 1 , 3 , 77 ] ] "
   ]
  },
  {
   "cell_type": "markdown",
   "id": "f69b4420",
   "metadata": {},
   "source": [
    "### Note\n",
    "\n",
    "The inspiration for this scenario is Vincent's blog post [here](https://vincent.frl/quantum-secret-santa/).  \n",
    "\n",
    "On his blog, Vincent uses [Q# and the QDK](https://docs.microsoft.com/en-us/azure/quantum/overview-what-is-qsharp-and-qdk) to solve this scenario and here we'll use [Quantum-Inspired Optimzation](https://docs.microsoft.com/en-us/azure/quantum/optimization-what-is-quantum-optimization)."
   ]
  },
  {
   "cell_type": "markdown",
   "id": "08b35e27",
   "metadata": {},
   "source": [
    "\n",
    "\n",
    "## Secret Santa Scenario\n",
    "\n",
    "Vincent, Tess, and Uma write their names on slips of paper and place them in a jar.  Then, each draws a slip of paper at random.  Each person buys a small gift and writes a poem for the person whose name they have drawn.  If they draw thier own name, they return the slip of paper and re-draw.\n",
    "\n",
    "To represent this problem, we can use 6 binary variables, as outlined in the table below:\n",
    "\n",
    "$\n",
    "\\begin{array}[t]{ | l | c | c | c | }\n",
    "    \\hline\n",
    "    \\textit{ - buys -> } & \\textbf{Vincent} & \\textbf{Tess} & \\textbf{Uma} \\\\ \\hline\n",
    "    \\textbf{ Vincent } & \\text{ -- } & x_0 & x_1 \\\\ \n",
    "    \\textbf{ Tess } & x_2 & \\text{ -- } & x_3 \\\\\n",
    "    \\textbf{ Uma } & x_3 & x_4 & \\text{ -- } \\\\\n",
    "    \\hline\n",
    "\\end{array}\n",
    "$\n",
    "\n",
    "The constraints for the problem can be expressed as doing logical ANDs ($ \\land $) of variables that are EXLUSIVE-ORd ($ \\oplus $) together, like this:\n",
    "\n",
    "$\n",
    "( x_0 \\oplus x_1 ) \\land ( x_2 \\oplus x_3 ) \\land ( x_4 \\oplus x_5 ) \\land ( x_2 \\oplus x_4 ) \\land ( x_0 \\oplus x_5 ) \\land ( x_1 \\oplus x_3 )\n",
    "$\n",
    "\n",
    "$\n",
    "\\text{ where } x_i \\in \\{ 0,1 \\} \n",
    "$"
   ]
  },
  {
   "cell_type": "markdown",
   "id": "b20aefeb",
   "metadata": {},
   "source": [
    "\n",
    "The truth table for exclusive or $ \\oplus $ is below (one variable or the other is $ \\textbf{one} $, but not both:\n",
    "\n",
    "$\n",
    "\\begin{array}[t]{ | c | c | c | }\n",
    "    \\hline\n",
    "    \\textbf x_0 & \\textbf x_1 & \\textbf x_0 \\oplus \\textbf x_1 \\\\ \\hline\n",
    "    0 & 0 & 0 \\\\ \n",
    "    0 & 1 & 1 \\\\ \n",
    "    1 & 0 & 1 \\\\ \n",
    "    1 & 1 & 0 \\\\ \n",
    "    \\hline\n",
    "\\end{array}\n",
    "$\n",
    "\n",
    "\n",
    "Using the truth table, we can see how the constraints are derrived. Looking at the scenario table in the cell above:\n",
    "Reading the first $ \\textbf{row} $ of the table, Vincent may buy a gift and write a poem for Tess or for Uma, but not both.\n",
    "Reading the first $ \\textbf{column} $ of the table, Vincent may recieve a gift and poem from Tess or from Uma, but not both."
   ]
  },
  {
   "cell_type": "markdown",
   "id": "816b94cb",
   "metadata": {},
   "source": [
    "So, how do we represent $ ( x_0 \\oplus x_1 ) $ in Terms that our cost function will understand?\n",
    "\n",
    "Keeping in mind that we want to $ \\textbf{minimize} $ our cost function, what if we do the following?\n",
    "\n",
    "$ ( x_0 + x_1 - 1 )^2 $  Let's check the truth table:\n",
    "\n",
    "$\n",
    "\\begin{array}[t]{ | c | c | c | }\n",
    "    \\hline\n",
    "    \\textbf x_0 & \\textbf x_1 & \\textbf ( x_0 + x_1 - 1 )^2 \\\\ \\hline\n",
    "    0 & 0 & 1 \\\\ \n",
    "    0 & 1 & 0 \\\\ \n",
    "    1 & 0 & 0 \\\\ \n",
    "    1 & 1 & 1 \\\\ \n",
    "    \\hline\n",
    "\\end{array}\n",
    "$\n",
    "\n",
    "Since we want to minimize the cost function, getting zero for the answers we want is the correct result.  We are almost there, we just need to expand the squared formula--remember [multiplying polynomials](https://en.wikipedia.org/wiki/Polynomial)?\n",
    "\n",
    "So, the expanded formula that we need to implement is:  $ x_0^2 + x_1^2 + 2x_0x_1 - 2x_0 - 2x_1 + 1 $\n",
    "\n",
    "We build up the Terms in the helper function $ \\textbf{built-terms} $ in the code cell below, but instead of using $ x_0 and x_1 $, we use the indeces for our variables instead (i and j).  So $ x_0 \\oplus x_1 $ would be buld_terms( 0 , 1 )."
   ]
  },
  {
   "cell_type": "code",
   "execution_count": null,
   "id": "bd86b899",
   "metadata": {},
   "outputs": [],
   "source": [
    "from typing import List\n",
    "from azure.quantum import Workspace\n",
    "from azure.quantum.optimization import Problem, ProblemType, Term, SimulatedAnnealing "
   ]
  },
  {
   "cell_type": "code",
   "execution_count": null,
   "id": "83469585",
   "metadata": {},
   "outputs": [],
   "source": [
    "def build_terms ( i : int , j : int ) :\n",
    "    \"\"\"\n",
    "    Construct Terms for a row or a column ( two variables ) of the secret santa matrix\n",
    "\n",
    "    Arguments:\n",
    "    i (int): index of first variable\n",
    "    j (int): index of second variable\n",
    "\n",
    "    \"\"\"\n",
    "    \n",
    "    terms = [ Term ( c = 1.0 , indices = [ i , i ] ) ]        # x(i)^2\n",
    "    terms.append ( Term ( c = 1.0 , indices = [ j , j ] ) )   # x(j)^2\n",
    "    terms.append ( Term ( c = 2.0 , indices = [ i , j ] ) )   # 2x(i)x(j) \n",
    "    terms.append ( Term ( c = -2.0 , indices = [ i ] ) )      # -2x(i)\n",
    "    terms.append ( Term ( c = -2.0 , indices = [ j ] ) )      # -2x(j)\n",
    "    terms.append ( Term ( c = 1.0 , indices = [] ) )          # +1\n",
    "\n",
    "    return terms"
   ]
  },
  {
   "cell_type": "markdown",
   "id": "471daa62",
   "metadata": {},
   "source": [
    "We have one more helper function, which takes the answer returned from the service and interprets it, based on the Scenario Table, above."
   ]
  },
  {
   "cell_type": "code",
   "execution_count": null,
   "id": "1d236f49",
   "metadata": {},
   "outputs": [],
   "source": [
    "def print_results ( config : dict ) :\n",
    "    \"\"\"\n",
    "    print results of run\n",
    "\n",
    "    Arguements:\n",
    "    config (dictionary): config returned from solver\n",
    "    \"\"\"\n",
    "    result =  { '0' : 'Vincent buys Tess a gift and writes her a poem' ,\n",
    "                '1' : 'Vincent buys Uma a gift and writes her a poem' ,\n",
    "                '2' : 'Tess buys Vincent a gift and writes him a poem' ,\n",
    "                '3' : 'Tess buys Uma a gift and writes her a poem' ,\n",
    "                '4' : 'Uma buys Vincent a gift and writes him a poem' ,\n",
    "                '5' : 'Uma buys Tess a gift and writes her a poem' }\n",
    "\n",
    "    for key, val in config.items() :\n",
    "        if val == 1 :\n",
    "            print ( result [ key ] )"
   ]
  },
  {
   "cell_type": "markdown",
   "id": "d3a6ff74",
   "metadata": {},
   "source": [
    "Now, we get into the core of our logic, which is to sign into our Azure Quantum Workspace, authenticate to the Service and then build our Terms to form a Problem, submit the Problem to the service and then print the results."
   ]
  },
  {
   "cell_type": "code",
   "execution_count": null,
   "id": "a811e63f",
   "metadata": {},
   "outputs": [],
   "source": [
    "workspace = Workspace(\n",
    "    subscription_id =   'xxx', # add your subscription_id\n",
    "    resource_group =    'xxx', # add your resource_group\n",
    "    name =              'xxx', # add your workspace name\n",
    ")\n",
    "\n",
    "workspace.login()\n",
    "print ( 'logged into workspace' )\n",
    "\n",
    "\n",
    "\"\"\"\n",
    "build secret santa matrix\n",
    "\n",
    "        Vincent Tess Uma\n",
    "Vincent    -    x(0) x(1)\n",
    "Tess      x(2)   -   x(3)\n",
    "Uma\t      x(4)  x(5)  -\n",
    "\"\"\"\n",
    "\n",
    "#       row 0                 + row 1                 + row 2                \n",
    "terms = build_terms ( 0 , 1 ) + build_terms ( 2 , 3 ) + build_terms ( 4 , 5 )\n",
    "\n",
    "#             + col 0                 + col 1                 + col 2\n",
    "terms = terms + build_terms ( 2 , 4 ) + build_terms ( 0 , 5 ) + build_terms ( 1 , 3 )\n",
    "\n",
    "\n",
    "print ( 'terms' )\n",
    "print ( terms )\n",
    "print ( ' ' )\n",
    "\n",
    "problem = Problem ( name = 'secret santa' , problem_type = ProblemType.pubo , terms = terms )\n",
    "\n",
    "solver = SimulatedAnnealing ( workspace , timeout = 2 )\n",
    "\n",
    "print ( solver )\n",
    "\n",
    "print ( 'calling solver' )\n",
    "result = solver.optimize ( problem )\n",
    "\n",
    "print ( 'response from solver' )\n",
    "print ( result )\n",
    "print ( ' ' )\n",
    "\n",
    "print_results ( result [ \"configuration\" ] )"
   ]
  },
  {
   "cell_type": "code",
   "execution_count": null,
   "id": "bd62c527",
   "metadata": {},
   "outputs": [],
   "source": []
  }
 ],
 "metadata": {
  "kernelspec": {
   "display_name": "Python 3",
   "language": "python",
   "name": "python3"
  },
  "language_info": {
   "codemirror_mode": {
    "name": "ipython",
    "version": 3
   },
   "file_extension": ".py",
   "mimetype": "text/x-python",
   "name": "python",
   "nbconvert_exporter": "python",
   "pygments_lexer": "ipython3",
   "version": "3.9.6"
  }
 },
 "nbformat": 4,
 "nbformat_minor": 5
}
